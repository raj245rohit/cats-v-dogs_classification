{
  "cells": [
    {
      "cell_type": "markdown",
      "metadata": {
        "id": "view-in-github",
        "colab_type": "text"
      },
      "source": [
        "<a href=\"https://colab.research.google.com/github/raj245rohit/cats-vs-dogs_classification/blob/main/cats_v_dogs_classification.ipynb\" target=\"_parent\"><img src=\"https://colab.research.google.com/assets/colab-badge.svg\" alt=\"Open In Colab\"/></a>"
      ]
    },
    {
      "cell_type": "markdown",
      "metadata": {
        "id": "lQY1hugdTuHK"
      },
      "source": [
        "Importing Datasets"
      ]
    },
    {
      "cell_type": "code",
      "execution_count": 2,
      "metadata": {
        "colab": {
          "base_uri": "https://localhost:8080/"
        },
        "id": "oc7VALA7T3nK",
        "outputId": "580b2a79-1751-4151-b662-90e8047d7e24"
      },
      "outputs": [
        {
          "output_type": "stream",
          "name": "stdout",
          "text": [
            "--2023-04-11 16:01:58--  https://download.microsoft.com/download/3/E/1/3E1C3F21-ECDB-4869-8368-6DEBA77B919F/kagglecatsanddogs_5340.zip\n",
            "Resolving download.microsoft.com (download.microsoft.com)... 184.86.92.202, 2600:1417:3f:688::317f, 2600:1417:3f:69c::317f\n",
            "Connecting to download.microsoft.com (download.microsoft.com)|184.86.92.202|:443... connected.\n",
            "HTTP request sent, awaiting response... 200 OK\n",
            "Length: 824887076 (787M) [application/octet-stream]\n",
            "Saving to: ‘kagglecatsanddogs_5340.zip’\n",
            "\n",
            "kagglecatsanddogs_5 100%[===================>] 786.67M  63.2MB/s    in 13s     \n",
            "\n",
            "2023-04-11 16:02:12 (62.1 MB/s) - ‘kagglecatsanddogs_5340.zip’ saved [824887076/824887076]\n",
            "\n"
          ]
        }
      ],
      "source": [
        "!wget https://download.microsoft.com/download/3/E/1/3E1C3F21-ECDB-4869-8368-6DEBA77B919F/kagglecatsanddogs_5340.zip"
      ]
    },
    {
      "cell_type": "code",
      "execution_count": null,
      "metadata": {
        "id": "pRXBYCWZUORz"
      },
      "outputs": [],
      "source": [
        "!unzip kagglecatsanddogs_5340.zip"
      ]
    },
    {
      "cell_type": "markdown",
      "metadata": {
        "id": "esNrm8ESbBKq"
      },
      "source": [
        "Import Modules"
      ]
    },
    {
      "cell_type": "code",
      "execution_count": 4,
      "metadata": {
        "id": "DUcmGCFyUqSS"
      },
      "outputs": [],
      "source": [
        "import pandas as pd\n",
        "import numpy as np\n",
        "import matplotlib.pyplot as plt\n",
        "import warnings\n",
        "import os\n",
        "from keras.utils import load_img\n",
        "warnings.filterwarnings('ignore')"
      ]
    },
    {
      "cell_type": "markdown",
      "metadata": {
        "id": "iAJm32qIdUMF"
      },
      "source": [
        "Create Dataframe for input and output"
      ]
    },
    {
      "cell_type": "code",
      "execution_count": 5,
      "metadata": {
        "colab": {
          "base_uri": "https://localhost:8080/"
        },
        "id": "rT3SgxzgVSZV",
        "outputId": "ece22f8f-f55f-4845-956f-c0678eb16ce0"
      },
      "outputs": [
        {
          "output_type": "stream",
          "name": "stdout",
          "text": [
            "PetImages/Dog/12173.jpg 1\n"
          ]
        }
      ],
      "source": [
        "input_path = []\n",
        "label = []\n",
        "\n",
        "for class_name in os.listdir(\"PetImages\"):\n",
        "  for path in os.listdir(\"PetImages/\"+class_name):\n",
        "    if class_name == 'Cat':\n",
        "      label.append(0)\n",
        "    else:\n",
        "      label.append(1)\n",
        "    input_path.append(os.path.join(\"PetImages\", class_name, path))\n",
        "print(input_path[0], label[0])"
      ]
    },
    {
      "cell_type": "code",
      "execution_count": 6,
      "metadata": {
        "colab": {
          "base_uri": "https://localhost:8080/",
          "height": 206
        },
        "id": "K0iII5rjWQyy",
        "outputId": "bebfa4f7-ab02-46a1-8ec1-6eb95c2cf7ec"
      },
      "outputs": [
        {
          "output_type": "execute_result",
          "data": {
            "text/plain": [
              "                   images label\n",
              "0  PetImages/Cat/7064.jpg     0\n",
              "1  PetImages/Dog/1500.jpg     1\n",
              "2   PetImages/Cat/454.jpg     0\n",
              "3  PetImages/Cat/4287.jpg     0\n",
              "4  PetImages/Cat/6617.jpg     0"
            ],
            "text/html": [
              "\n",
              "  <div id=\"df-da7ece01-3c4d-49f0-ab69-992431b4ec38\">\n",
              "    <div class=\"colab-df-container\">\n",
              "      <div>\n",
              "<style scoped>\n",
              "    .dataframe tbody tr th:only-of-type {\n",
              "        vertical-align: middle;\n",
              "    }\n",
              "\n",
              "    .dataframe tbody tr th {\n",
              "        vertical-align: top;\n",
              "    }\n",
              "\n",
              "    .dataframe thead th {\n",
              "        text-align: right;\n",
              "    }\n",
              "</style>\n",
              "<table border=\"1\" class=\"dataframe\">\n",
              "  <thead>\n",
              "    <tr style=\"text-align: right;\">\n",
              "      <th></th>\n",
              "      <th>images</th>\n",
              "      <th>label</th>\n",
              "    </tr>\n",
              "  </thead>\n",
              "  <tbody>\n",
              "    <tr>\n",
              "      <th>0</th>\n",
              "      <td>PetImages/Cat/7064.jpg</td>\n",
              "      <td>0</td>\n",
              "    </tr>\n",
              "    <tr>\n",
              "      <th>1</th>\n",
              "      <td>PetImages/Dog/1500.jpg</td>\n",
              "      <td>1</td>\n",
              "    </tr>\n",
              "    <tr>\n",
              "      <th>2</th>\n",
              "      <td>PetImages/Cat/454.jpg</td>\n",
              "      <td>0</td>\n",
              "    </tr>\n",
              "    <tr>\n",
              "      <th>3</th>\n",
              "      <td>PetImages/Cat/4287.jpg</td>\n",
              "      <td>0</td>\n",
              "    </tr>\n",
              "    <tr>\n",
              "      <th>4</th>\n",
              "      <td>PetImages/Cat/6617.jpg</td>\n",
              "      <td>0</td>\n",
              "    </tr>\n",
              "  </tbody>\n",
              "</table>\n",
              "</div>\n",
              "      <button class=\"colab-df-convert\" onclick=\"convertToInteractive('df-da7ece01-3c4d-49f0-ab69-992431b4ec38')\"\n",
              "              title=\"Convert this dataframe to an interactive table.\"\n",
              "              style=\"display:none;\">\n",
              "        \n",
              "  <svg xmlns=\"http://www.w3.org/2000/svg\" height=\"24px\"viewBox=\"0 0 24 24\"\n",
              "       width=\"24px\">\n",
              "    <path d=\"M0 0h24v24H0V0z\" fill=\"none\"/>\n",
              "    <path d=\"M18.56 5.44l.94 2.06.94-2.06 2.06-.94-2.06-.94-.94-2.06-.94 2.06-2.06.94zm-11 1L8.5 8.5l.94-2.06 2.06-.94-2.06-.94L8.5 2.5l-.94 2.06-2.06.94zm10 10l.94 2.06.94-2.06 2.06-.94-2.06-.94-.94-2.06-.94 2.06-2.06.94z\"/><path d=\"M17.41 7.96l-1.37-1.37c-.4-.4-.92-.59-1.43-.59-.52 0-1.04.2-1.43.59L10.3 9.45l-7.72 7.72c-.78.78-.78 2.05 0 2.83L4 21.41c.39.39.9.59 1.41.59.51 0 1.02-.2 1.41-.59l7.78-7.78 2.81-2.81c.8-.78.8-2.07 0-2.86zM5.41 20L4 18.59l7.72-7.72 1.47 1.35L5.41 20z\"/>\n",
              "  </svg>\n",
              "      </button>\n",
              "      \n",
              "  <style>\n",
              "    .colab-df-container {\n",
              "      display:flex;\n",
              "      flex-wrap:wrap;\n",
              "      gap: 12px;\n",
              "    }\n",
              "\n",
              "    .colab-df-convert {\n",
              "      background-color: #E8F0FE;\n",
              "      border: none;\n",
              "      border-radius: 50%;\n",
              "      cursor: pointer;\n",
              "      display: none;\n",
              "      fill: #1967D2;\n",
              "      height: 32px;\n",
              "      padding: 0 0 0 0;\n",
              "      width: 32px;\n",
              "    }\n",
              "\n",
              "    .colab-df-convert:hover {\n",
              "      background-color: #E2EBFA;\n",
              "      box-shadow: 0px 1px 2px rgba(60, 64, 67, 0.3), 0px 1px 3px 1px rgba(60, 64, 67, 0.15);\n",
              "      fill: #174EA6;\n",
              "    }\n",
              "\n",
              "    [theme=dark] .colab-df-convert {\n",
              "      background-color: #3B4455;\n",
              "      fill: #D2E3FC;\n",
              "    }\n",
              "\n",
              "    [theme=dark] .colab-df-convert:hover {\n",
              "      background-color: #434B5C;\n",
              "      box-shadow: 0px 1px 3px 1px rgba(0, 0, 0, 0.15);\n",
              "      filter: drop-shadow(0px 1px 2px rgba(0, 0, 0, 0.3));\n",
              "      fill: #FFFFFF;\n",
              "    }\n",
              "  </style>\n",
              "\n",
              "      <script>\n",
              "        const buttonEl =\n",
              "          document.querySelector('#df-da7ece01-3c4d-49f0-ab69-992431b4ec38 button.colab-df-convert');\n",
              "        buttonEl.style.display =\n",
              "          google.colab.kernel.accessAllowed ? 'block' : 'none';\n",
              "\n",
              "        async function convertToInteractive(key) {\n",
              "          const element = document.querySelector('#df-da7ece01-3c4d-49f0-ab69-992431b4ec38');\n",
              "          const dataTable =\n",
              "            await google.colab.kernel.invokeFunction('convertToInteractive',\n",
              "                                                     [key], {});\n",
              "          if (!dataTable) return;\n",
              "\n",
              "          const docLinkHtml = 'Like what you see? Visit the ' +\n",
              "            '<a target=\"_blank\" href=https://colab.research.google.com/notebooks/data_table.ipynb>data table notebook</a>'\n",
              "            + ' to learn more about interactive tables.';\n",
              "          element.innerHTML = '';\n",
              "          dataTable['output_type'] = 'display_data';\n",
              "          await google.colab.output.renderOutput(dataTable, element);\n",
              "          const docLink = document.createElement('div');\n",
              "          docLink.innerHTML = docLinkHtml;\n",
              "          element.appendChild(docLink);\n",
              "        }\n",
              "      </script>\n",
              "    </div>\n",
              "  </div>\n",
              "  "
            ]
          },
          "metadata": {},
          "execution_count": 6
        }
      ],
      "source": [
        "df = pd.DataFrame()\n",
        "df['images'] = input_path\n",
        "df['label'] = label\n",
        "df['label'] = df['label'].astype('str')\n",
        "df = df.sample(frac=1).reset_index(drop=True)\n",
        "df.head()"
      ]
    },
    {
      "cell_type": "code",
      "execution_count": 7,
      "metadata": {
        "colab": {
          "base_uri": "https://localhost:8080/"
        },
        "id": "yKWM-ejbri2g",
        "outputId": "704ab396-41a3-4f4a-9d81-ca3e2ad8d09a"
      },
      "outputs": [
        {
          "output_type": "stream",
          "name": "stdout",
          "text": [
            "25000\n"
          ]
        }
      ],
      "source": [
        "df = df[df['images'].str[-4:] == '.jpg']\n",
        "print(len(df))\n"
      ]
    },
    {
      "cell_type": "code",
      "execution_count": 8,
      "metadata": {
        "colab": {
          "base_uri": "https://localhost:8080/"
        },
        "id": "1J0tLN5rwmfx",
        "outputId": "1548fe34-f937-4d74-b6a0-cefdfc71dd15"
      },
      "outputs": [
        {
          "output_type": "stream",
          "name": "stdout",
          "text": [
            "24998\n"
          ]
        }
      ],
      "source": [
        "import PIL\n",
        "for image in df['images']:\n",
        "  try:\n",
        "    img = PIL.Image.open(image)\n",
        "  except:\n",
        "    df = df[df['images'] != image]\n",
        "\n",
        "print(len(df))\n"
      ]
    },
    {
      "cell_type": "markdown",
      "metadata": {
        "id": "y41sN4Lsf-cO"
      },
      "source": [
        "Exploratory Data Analysis"
      ]
    },
    {
      "cell_type": "code",
      "execution_count": 9,
      "metadata": {
        "colab": {
          "base_uri": "https://localhost:8080/",
          "height": 34
        },
        "id": "PxWYOM8OXIEC",
        "outputId": "9740352a-587e-4ae5-f000-b31dbee7588f"
      },
      "outputs": [
        {
          "output_type": "display_data",
          "data": {
            "text/plain": [
              "<Figure size 2500x2500 with 0 Axes>"
            ]
          },
          "metadata": {}
        }
      ],
      "source": [
        "import random\n",
        "# Display grid of images\n",
        "plt.figure(figsize=(25,25))\n",
        "temp = df[df['label']==1]['images']\n",
        "start = random.randint(0,len(temp))\n",
        "files = temp[start:start+25]\n",
        "\n",
        "for index, file in enumerate(files):\n",
        "  plt.subplot(5,5,index+1)\n",
        "  img = load_img(file)\n",
        "  img = np.array(img)\n",
        "  plt.imshow(img)\n",
        "  plt.title('Dog')\n",
        "  plt.axis('off')"
      ]
    },
    {
      "cell_type": "code",
      "execution_count": 10,
      "metadata": {
        "colab": {
          "base_uri": "https://localhost:8080/",
          "height": 447
        },
        "id": "IInWdPfxiID-",
        "outputId": "d04cea86-6091-436e-cc98-3fd281a9669b"
      },
      "outputs": [
        {
          "output_type": "execute_result",
          "data": {
            "text/plain": [
              "<Axes: ylabel='count'>"
            ]
          },
          "metadata": {},
          "execution_count": 10
        },
        {
          "output_type": "display_data",
          "data": {
            "text/plain": [
              "<Figure size 640x480 with 1 Axes>"
            ],
            "image/png": "[encoded data removed]"
          },
          "metadata": {}
        }
      ],
      "source": [
        "import seaborn as sns\n",
        "sns.countplot(df['label'])"
      ]
    },
    {
      "cell_type": "markdown",
      "metadata": {
        "id": "xCsT_TgDi5PV"
      },
      "source": [
        "Create DataGenerator for Images"
      ]
    },
    {
      "cell_type": "code",
      "execution_count": 11,
      "metadata": {
        "id": "i0K_e-60pLOw"
      },
      "outputs": [],
      "source": [
        "#input split\n",
        "from sklearn.model_selection import train_test_split\n",
        "train, test = train_test_split(df, test_size=0.2, random_state=42)"
      ]
    },
    {
      "cell_type": "code",
      "execution_count": 12,
      "metadata": {
        "colab": {
          "base_uri": "https://localhost:8080/",
          "height": 206
        },
        "id": "Npyttyonpoxy",
        "outputId": "12cabb5d-5873-4f57-b2ce-ebafc39116b9"
      },
      "outputs": [
        {
          "output_type": "execute_result",
          "data": {
            "text/plain": [
              "                       images label\n",
              "6869   PetImages/Cat/1975.jpg     0\n",
              "22914  PetImages/Cat/5945.jpg     0\n",
              "9670   PetImages/Dog/8168.jpg     1\n",
              "13641  PetImages/Cat/7112.jpg     0\n",
              "23341  PetImages/Dog/1449.jpg     1"
            ],
            "text/html": [
              "\n",
              "  <div id=\"df-6cff249c-d44a-44af-ac0f-cab09c56cb87\">\n",
              "    <div class=\"colab-df-container\">\n",
              "      <div>\n",
              "<style scoped>\n",
              "    .dataframe tbody tr th:only-of-type {\n",
              "        vertical-align: middle;\n",
              "    }\n",
              "\n",
              "    .dataframe tbody tr th {\n",
              "        vertical-align: top;\n",
              "    }\n",
              "\n",
              "    .dataframe thead th {\n",
              "        text-align: right;\n",
              "    }\n",
              "</style>\n",
              "<table border=\"1\" class=\"dataframe\">\n",
              "  <thead>\n",
              "    <tr style=\"text-align: right;\">\n",
              "      <th></th>\n",
              "      <th>images</th>\n",
              "      <th>label</th>\n",
              "    </tr>\n",
              "  </thead>\n",
              "  <tbody>\n",
              "    <tr>\n",
              "      <th>6869</th>\n",
              "      <td>PetImages/Cat/1975.jpg</td>\n",
              "      <td>0</td>\n",
              "    </tr>\n",
              "    <tr>\n",
              "      <th>22914</th>\n",
              "      <td>PetImages/Cat/5945.jpg</td>\n",
              "      <td>0</td>\n",
              "    </tr>\n",
              "    <tr>\n",
              "      <th>9670</th>\n",
              "      <td>PetImages/Dog/8168.jpg</td>\n",
              "      <td>1</td>\n",
              "    </tr>\n",
              "    <tr>\n",
              "      <th>13641</th>\n",
              "      <td>PetImages/Cat/7112.jpg</td>\n",
              "      <td>0</td>\n",
              "    </tr>\n",
              "    <tr>\n",
              "      <th>23341</th>\n",
              "      <td>PetImages/Dog/1449.jpg</td>\n",
              "      <td>1</td>\n",
              "    </tr>\n",
              "  </tbody>\n",
              "</table>\n",
              "</div>\n",
              "      <button class=\"colab-df-convert\" onclick=\"convertToInteractive('df-6cff249c-d44a-44af-ac0f-cab09c56cb87')\"\n",
              "              title=\"Convert this dataframe to an interactive table.\"\n",
              "              style=\"display:none;\">\n",
              "        \n",
              "  <svg xmlns=\"http://www.w3.org/2000/svg\" height=\"24px\"viewBox=\"0 0 24 24\"\n",
              "       width=\"24px\">\n",
              "    <path d=\"M0 0h24v24H0V0z\" fill=\"none\"/>\n",
              "    <path d=\"M18.56 5.44l.94 2.06.94-2.06 2.06-.94-2.06-.94-.94-2.06-.94 2.06-2.06.94zm-11 1L8.5 8.5l.94-2.06 2.06-.94-2.06-.94L8.5 2.5l-.94 2.06-2.06.94zm10 10l.94 2.06.94-2.06 2.06-.94-2.06-.94-.94-2.06-.94 2.06-2.06.94z\"/><path d=\"M17.41 7.96l-1.37-1.37c-.4-.4-.92-.59-1.43-.59-.52 0-1.04.2-1.43.59L10.3 9.45l-7.72 7.72c-.78.78-.78 2.05 0 2.83L4 21.41c.39.39.9.59 1.41.59.51 0 1.02-.2 1.41-.59l7.78-7.78 2.81-2.81c.8-.78.8-2.07 0-2.86zM5.41 20L4 18.59l7.72-7.72 1.47 1.35L5.41 20z\"/>\n",
              "  </svg>\n",
              "      </button>\n",
              "      \n",
              "  <style>\n",
              "    .colab-df-container {\n",
              "      display:flex;\n",
              "      flex-wrap:wrap;\n",
              "      gap: 12px;\n",
              "    }\n",
              "\n",
              "    .colab-df-convert {\n",
              "      background-color: #E8F0FE;\n",
              "      border: none;\n",
              "      border-radius: 50%;\n",
              "      cursor: pointer;\n",
              "      display: none;\n",
              "      fill: #1967D2;\n",
              "      height: 32px;\n",
              "      padding: 0 0 0 0;\n",
              "      width: 32px;\n",
              "    }\n",
              "\n",
              "    .colab-df-convert:hover {\n",
              "      background-color: #E2EBFA;\n",
              "      box-shadow: 0px 1px 2px rgba(60, 64, 67, 0.3), 0px 1px 3px 1px rgba(60, 64, 67, 0.15);\n",
              "      fill: #174EA6;\n",
              "    }\n",
              "\n",
              "    [theme=dark] .colab-df-convert {\n",
              "      background-color: #3B4455;\n",
              "      fill: #D2E3FC;\n",
              "    }\n",
              "\n",
              "    [theme=dark] .colab-df-convert:hover {\n",
              "      background-color: #434B5C;\n",
              "      box-shadow: 0px 1px 3px 1px rgba(0, 0, 0, 0.15);\n",
              "      filter: drop-shadow(0px 1px 2px rgba(0, 0, 0, 0.3));\n",
              "      fill: #FFFFFF;\n",
              "    }\n",
              "  </style>\n",
              "\n",
              "      <script>\n",
              "        const buttonEl =\n",
              "          document.querySelector('#df-6cff249c-d44a-44af-ac0f-cab09c56cb87 button.colab-df-convert');\n",
              "        buttonEl.style.display =\n",
              "          google.colab.kernel.accessAllowed ? 'block' : 'none';\n",
              "\n",
              "        async function convertToInteractive(key) {\n",
              "          const element = document.querySelector('#df-6cff249c-d44a-44af-ac0f-cab09c56cb87');\n",
              "          const dataTable =\n",
              "            await google.colab.kernel.invokeFunction('convertToInteractive',\n",
              "                                                     [key], {});\n",
              "          if (!dataTable) return;\n",
              "\n",
              "          const docLinkHtml = 'Like what you see? Visit the ' +\n",
              "            '<a target=\"_blank\" href=https://colab.research.google.com/notebooks/data_table.ipynb>data table notebook</a>'\n",
              "            + ' to learn more about interactive tables.';\n",
              "          element.innerHTML = '';\n",
              "          dataTable['output_type'] = 'display_data';\n",
              "          await google.colab.output.renderOutput(dataTable, element);\n",
              "          const docLink = document.createElement('div');\n",
              "          docLink.innerHTML = docLinkHtml;\n",
              "          element.appendChild(docLink);\n",
              "        }\n",
              "      </script>\n",
              "    </div>\n",
              "  </div>\n",
              "  "
            ]
          },
          "metadata": {},
          "execution_count": 12
        }
      ],
      "source": [
        "test.head()"
      ]
    },
    {
      "cell_type": "code",
      "execution_count": 13,
      "metadata": {
        "colab": {
          "base_uri": "https://localhost:8080/"
        },
        "id": "ZkWdVIV7iIBT",
        "outputId": "e1346e1d-9d65-4ee7-9d76-0fbe7c71b0ea"
      },
      "outputs": [
        {
          "output_type": "stream",
          "name": "stdout",
          "text": [
            "Found 19998 validated image filenames belonging to 2 classes.\n",
            "Found 5000 validated image filenames belonging to 2 classes.\n"
          ]
        }
      ],
      "source": [
        "from keras.preprocessing.image import ImageDataGenerator\n",
        "\n",
        "train_generator = ImageDataGenerator(\n",
        "    rescale = 1./255, #normalization of images\n",
        "    rotation_range = 40,\n",
        "    shear_range = 0.2,\n",
        "    zoom_range = 0.2,\n",
        "    horizontal_flip= True,\n",
        "    fill_mode = 'nearest'\n",
        ")\n",
        "\n",
        "val_generator = ImageDataGenerator(rescale = 1./255)\n",
        "\n",
        "train_iterator= train_generator.flow_from_dataframe(\n",
        "    train,\n",
        "    x_col='images', \n",
        "    y_col='label',\n",
        "    target_size=(128,128),\n",
        "    batch_size=512,\n",
        "    class_mode='binary'\n",
        ")\n",
        "\n",
        "val_iterator = val_generator.flow_from_dataframe(\n",
        "    test,\n",
        "    x_col='images', \n",
        "    y_col='label',\n",
        "    target_size=(128,128),\n",
        "    batch_size=512,\n",
        "    class_mode='binary'\n",
        ")"
      ]
    },
    {
      "cell_type": "markdown",
      "metadata": {
        "id": "A-xf3HQfl2BO"
      },
      "source": [
        "Model Building"
      ]
    },
    {
      "cell_type": "code",
      "execution_count": 14,
      "metadata": {
        "id": "4mX9bY1EiH-5"
      },
      "outputs": [],
      "source": [
        "from keras import Sequential\n",
        "from keras.layers import Conv2D, MaxPool2D, Flatten, Dense"
      ]
    },
    {
      "cell_type": "code",
      "execution_count": 15,
      "metadata": {
        "id": "1GaGuFrXiH8N"
      },
      "outputs": [],
      "source": [
        "model = Sequential([\n",
        "    Conv2D(16, (3,3), activation='relu',input_shape=(128,128,3)),\n",
        "    MaxPool2D((2,2)),\n",
        "    Conv2D(32,(3,3),activation='relu'),\n",
        "    Conv2D(64, (3,3),activation='relu'),\n",
        "    MaxPool2D((2,2)),\n",
        "    Flatten(),\n",
        "    Dense(512, activation='relu'),\n",
        "    Dense(1, activation='sigmoid')\n",
        "    ])"
      ]
    },
    {
      "cell_type": "code",
      "execution_count": 16,
      "metadata": {
        "colab": {
          "base_uri": "https://localhost:8080/"
        },
        "id": "vc4zHVNAgTM1",
        "outputId": "d621621d-77de-4b10-f0ad-57fbe2f8759d"
      },
      "outputs": [
        {
          "output_type": "stream",
          "name": "stdout",
          "text": [
            "Model: \"sequential\"\n",
            "_________________________________________________________________\n",
            " Layer (type)                Output Shape              Param #   \n",
            "=================================================================\n",
            " conv2d (Conv2D)             (None, 126, 126, 16)      448       \n",
            "                                                                 \n",
            " max_pooling2d (MaxPooling2D  (None, 63, 63, 16)       0         \n",
            " )                                                               \n",
            "                                                                 \n",
            " conv2d_1 (Conv2D)           (None, 61, 61, 32)        4640      \n",
            "                                                                 \n",
            " conv2d_2 (Conv2D)           (None, 59, 59, 64)        18496     \n",
            "                                                                 \n",
            " max_pooling2d_1 (MaxPooling  (None, 29, 29, 64)       0         \n",
            " 2D)                                                             \n",
            "                                                                 \n",
            " flatten (Flatten)           (None, 53824)             0         \n",
            "                                                                 \n",
            " dense (Dense)               (None, 512)               27558400  \n",
            "                                                                 \n",
            " dense_1 (Dense)             (None, 1)                 513       \n",
            "                                                                 \n",
            "=================================================================\n",
            "Total params: 27,582,497\n",
            "Trainable params: 27,582,497\n",
            "Non-trainable params: 0\n",
            "_________________________________________________________________\n"
          ]
        }
      ],
      "source": [
        "model.compile(optimizer='adam', loss='binary_crossentropy', metrics=['accuracy'])\n",
        "model.summary()"
      ]
    },
    {
      "cell_type": "code",
      "execution_count": 17,
      "metadata": {
        "colab": {
          "base_uri": "https://localhost:8080/"
        },
        "id": "ZImIo4BmoYdC",
        "outputId": "ec67d9a6-9a68-4a2e-c17c-d93b65b911c1"
      },
      "outputs": [
        {
          "output_type": "stream",
          "name": "stdout",
          "text": [
            "Epoch 1/50\n",
            "40/40 [==============================] - 165s 4s/step - loss: 0.8630 - accuracy: 0.5242 - val_loss: 0.6618 - val_accuracy: 0.5888\n",
            "Epoch 2/50\n",
            "40/40 [==============================] - 147s 4s/step - loss: 0.6436 - accuracy: 0.6226 - val_loss: 0.6161 - val_accuracy: 0.6490\n",
            "Epoch 3/50\n",
            "40/40 [==============================] - 151s 4s/step - loss: 0.5947 - accuracy: 0.6807 - val_loss: 0.5333 - val_accuracy: 0.7270\n",
            "Epoch 4/50\n",
            "40/40 [==============================] - 145s 4s/step - loss: 0.5558 - accuracy: 0.7118 - val_loss: 0.5100 - val_accuracy: 0.7428\n",
            "Epoch 5/50\n",
            "40/40 [==============================] - 145s 4s/step - loss: 0.5355 - accuracy: 0.7255 - val_loss: 0.5053 - val_accuracy: 0.7458\n",
            "Epoch 6/50\n",
            "40/40 [==============================] - 148s 4s/step - loss: 0.5197 - accuracy: 0.7399 - val_loss: 0.4777 - val_accuracy: 0.7706\n",
            "Epoch 7/50\n",
            "40/40 [==============================] - 150s 4s/step - loss: 0.5014 - accuracy: 0.7516 - val_loss: 0.5187 - val_accuracy: 0.7340\n",
            "Epoch 8/50\n",
            "40/40 [==============================] - 145s 4s/step - loss: 0.5000 - accuracy: 0.7516 - val_loss: 0.4585 - val_accuracy: 0.7808\n",
            "Epoch 9/50\n",
            "40/40 [==============================] - 144s 4s/step - loss: 0.4736 - accuracy: 0.7697 - val_loss: 0.4696 - val_accuracy: 0.7824\n",
            "Epoch 10/50\n",
            "40/40 [==============================] - 145s 4s/step - loss: 0.4911 - accuracy: 0.7603 - val_loss: 0.5126 - val_accuracy: 0.7546\n",
            "Epoch 11/50\n",
            "40/40 [==============================] - 149s 4s/step - loss: 0.4600 - accuracy: 0.7818 - val_loss: 0.4434 - val_accuracy: 0.7972\n",
            "Epoch 12/50\n",
            "40/40 [==============================] - 145s 4s/step - loss: 0.4510 - accuracy: 0.7838 - val_loss: 0.4258 - val_accuracy: 0.7996\n",
            "Epoch 13/50\n",
            "40/40 [==============================] - 144s 4s/step - loss: 0.4508 - accuracy: 0.7868 - val_loss: 0.4083 - val_accuracy: 0.8108\n",
            "Epoch 14/50\n",
            "40/40 [==============================] - 144s 4s/step - loss: 0.4372 - accuracy: 0.7957 - val_loss: 0.4338 - val_accuracy: 0.7970\n",
            "Epoch 15/50\n",
            "40/40 [==============================] - 149s 4s/step - loss: 0.4371 - accuracy: 0.7949 - val_loss: 0.4128 - val_accuracy: 0.8086\n",
            "Epoch 16/50\n",
            "40/40 [==============================] - 148s 4s/step - loss: 0.4276 - accuracy: 0.8018 - val_loss: 0.4081 - val_accuracy: 0.8152\n",
            "Epoch 17/50\n",
            "40/40 [==============================] - 147s 4s/step - loss: 0.4211 - accuracy: 0.8059 - val_loss: 0.3960 - val_accuracy: 0.8146\n",
            "Epoch 18/50\n",
            "40/40 [==============================] - 145s 4s/step - loss: 0.4240 - accuracy: 0.8039 - val_loss: 0.4015 - val_accuracy: 0.8122\n",
            "Epoch 19/50\n",
            "40/40 [==============================] - 145s 4s/step - loss: 0.4052 - accuracy: 0.8145 - val_loss: 0.3960 - val_accuracy: 0.8226\n",
            "Epoch 20/50\n",
            "40/40 [==============================] - 148s 4s/step - loss: 0.4039 - accuracy: 0.8167 - val_loss: 0.4101 - val_accuracy: 0.8206\n",
            "Epoch 21/50\n",
            "40/40 [==============================] - 148s 4s/step - loss: 0.4017 - accuracy: 0.8148 - val_loss: 0.3932 - val_accuracy: 0.8152\n",
            "Epoch 22/50\n",
            "40/40 [==============================] - 149s 4s/step - loss: 0.3896 - accuracy: 0.8250 - val_loss: 0.3876 - val_accuracy: 0.8208\n",
            "Epoch 23/50\n",
            "40/40 [==============================] - 145s 4s/step - loss: 0.3882 - accuracy: 0.8231 - val_loss: 0.4115 - val_accuracy: 0.8056\n",
            "Epoch 24/50\n",
            "40/40 [==============================] - 149s 4s/step - loss: 0.3940 - accuracy: 0.8188 - val_loss: 0.3797 - val_accuracy: 0.8264\n",
            "Epoch 25/50\n",
            "40/40 [==============================] - 150s 4s/step - loss: 0.3878 - accuracy: 0.8264 - val_loss: 0.3805 - val_accuracy: 0.8324\n",
            "Epoch 26/50\n",
            "40/40 [==============================] - 151s 4s/step - loss: 0.3731 - accuracy: 0.8324 - val_loss: 0.3791 - val_accuracy: 0.8330\n",
            "Epoch 27/50\n",
            "40/40 [==============================] - 150s 4s/step - loss: 0.3740 - accuracy: 0.8321 - val_loss: 0.3884 - val_accuracy: 0.8324\n",
            "Epoch 28/50\n",
            "40/40 [==============================] - 150s 4s/step - loss: 0.3649 - accuracy: 0.8366 - val_loss: 0.4451 - val_accuracy: 0.8092\n",
            "Epoch 29/50\n",
            "40/40 [==============================] - 148s 4s/step - loss: 0.3593 - accuracy: 0.8420 - val_loss: 0.3989 - val_accuracy: 0.8242\n",
            "Epoch 30/50\n",
            "40/40 [==============================] - 148s 4s/step - loss: 0.3607 - accuracy: 0.8378 - val_loss: 0.3731 - val_accuracy: 0.8390\n",
            "Epoch 31/50\n",
            "40/40 [==============================] - 147s 4s/step - loss: 0.3526 - accuracy: 0.8426 - val_loss: 0.3775 - val_accuracy: 0.8366\n",
            "Epoch 32/50\n",
            "40/40 [==============================] - 146s 4s/step - loss: 0.3519 - accuracy: 0.8449 - val_loss: 0.3777 - val_accuracy: 0.8304\n",
            "Epoch 33/50\n",
            "40/40 [==============================] - 147s 4s/step - loss: 0.3505 - accuracy: 0.8450 - val_loss: 0.3709 - val_accuracy: 0.8378\n",
            "Epoch 34/50\n",
            "40/40 [==============================] - 147s 4s/step - loss: 0.3472 - accuracy: 0.8461 - val_loss: 0.3578 - val_accuracy: 0.8400\n",
            "Epoch 35/50\n",
            "40/40 [==============================] - 146s 4s/step - loss: 0.3480 - accuracy: 0.8454 - val_loss: 0.3596 - val_accuracy: 0.8444\n",
            "Epoch 36/50\n",
            "40/40 [==============================] - 152s 4s/step - loss: 0.3371 - accuracy: 0.8505 - val_loss: 0.3582 - val_accuracy: 0.8398\n",
            "Epoch 37/50\n",
            "40/40 [==============================] - 148s 4s/step - loss: 0.3393 - accuracy: 0.8508 - val_loss: 0.3593 - val_accuracy: 0.8450\n",
            "Epoch 38/50\n",
            "40/40 [==============================] - 146s 4s/step - loss: 0.3344 - accuracy: 0.8538 - val_loss: 0.4177 - val_accuracy: 0.8356\n",
            "Epoch 39/50\n",
            "40/40 [==============================] - 146s 4s/step - loss: 0.3360 - accuracy: 0.8530 - val_loss: 0.3697 - val_accuracy: 0.8408\n",
            "Epoch 40/50\n",
            "40/40 [==============================] - 146s 4s/step - loss: 0.3259 - accuracy: 0.8597 - val_loss: 0.3581 - val_accuracy: 0.8472\n",
            "Epoch 41/50\n",
            "40/40 [==============================] - 147s 4s/step - loss: 0.3294 - accuracy: 0.8547 - val_loss: 0.3518 - val_accuracy: 0.8438\n",
            "Epoch 42/50\n",
            "40/40 [==============================] - 147s 4s/step - loss: 0.3242 - accuracy: 0.8593 - val_loss: 0.3435 - val_accuracy: 0.8546\n",
            "Epoch 43/50\n",
            "40/40 [==============================] - 148s 4s/step - loss: 0.3146 - accuracy: 0.8629 - val_loss: 0.3666 - val_accuracy: 0.8440\n",
            "Epoch 44/50\n",
            "40/40 [==============================] - 146s 4s/step - loss: 0.3172 - accuracy: 0.8611 - val_loss: 0.3417 - val_accuracy: 0.8556\n",
            "Epoch 45/50\n",
            "40/40 [==============================] - 151s 4s/step - loss: 0.3122 - accuracy: 0.8636 - val_loss: 0.3474 - val_accuracy: 0.8512\n",
            "Epoch 46/50\n",
            "40/40 [==============================] - 146s 4s/step - loss: 0.3179 - accuracy: 0.8607 - val_loss: 0.4019 - val_accuracy: 0.8424\n",
            "Epoch 47/50\n",
            "40/40 [==============================] - 145s 4s/step - loss: 0.2995 - accuracy: 0.8704 - val_loss: 0.3582 - val_accuracy: 0.8586\n",
            "Epoch 48/50\n",
            "40/40 [==============================] - 146s 4s/step - loss: 0.3025 - accuracy: 0.8681 - val_loss: 0.3618 - val_accuracy: 0.8528\n",
            "Epoch 49/50\n",
            "40/40 [==============================] - 150s 4s/step - loss: 0.3098 - accuracy: 0.8637 - val_loss: 0.3425 - val_accuracy: 0.8566\n",
            "Epoch 50/50\n",
            "40/40 [==============================] - 154s 4s/step - loss: 0.3015 - accuracy: 0.8679 - val_loss: 0.3919 - val_accuracy: 0.8450\n"
          ]
        }
      ],
      "source": [
        "history = model.fit(train_iterator, epochs=50, validation_data=val_iterator)"
      ]
    },
    {
      "cell_type": "markdown",
      "metadata": {
        "id": "uqEJcMuc8pXX"
      },
      "source": [
        "Visualization of Results"
      ]
    },
    {
      "cell_type": "code",
      "execution_count": 20,
      "metadata": {
        "id": "y3dIL0n9qxG5",
        "colab": {
          "base_uri": "https://localhost:8080/",
          "height": 887
        },
        "outputId": "6adccd0d-3640-4624-cfd1-0a68c7a244b2"
      },
      "outputs": [
        {
          "output_type": "display_data",
          "data": {
            "text/plain": [
              "<Figure size 640x480 with 1 Axes>"
            ],
            "image/png": "[encoded data removed]"
          },
          "metadata": {}
        },
        {
          "output_type": "display_data",
          "data": {
            "text/plain": [
              "<Figure size 640x480 with 1 Axes>"
            ],
            "image/png": "[encoded data removed]"
          },
          "metadata": {}
        }
      ],
      "source": [
        "acc = history.history['accuracy']\n",
        "val_acc = history.history['val_accuracy']\n",
        "epochs = range(len(acc))\n",
        "\n",
        "plt.plot(epochs, acc, 'b', label='Training Accuracy')\n",
        "plt.plot(epochs, val_acc, 'r', label = 'validation Accuaracy')\n",
        "plt.title('Accuracy Graph')\n",
        "plt.legend()\n",
        "plt.figure()\n",
        "\n",
        "loss= history.history['loss']\n",
        "val_loss = history.history['val_loss']\n",
        "plt.plot(epochs, loss, 'b', label='Training Loss')\n",
        "plt.plot(epochs, val_loss, 'r', label='Validation loss')\n",
        "plt.title('Loss Graph')\n",
        "plt.legend()\n",
        "plt.show()"
      ]
    },
    {
      "cell_type": "code",
      "source": [],
      "metadata": {
        "id": "Tpju9rwclORs"
      },
      "execution_count": null,
      "outputs": []
    }
  ],
  "metadata": {
    "accelerator": "GPU",
    "colab": {
      "provenance": [],
      "authorship_tag": "ABX9TyN0kTrM9ycZPvocCo6inDBh",
      "include_colab_link": true
    },
    "gpuClass": "standard",
    "kernelspec": {
      "display_name": "Python 3",
      "name": "python3"
    },
    "language_info": {
      "name": "python"
    }
  },
  "nbformat": 4,
  "nbformat_minor": 0
}